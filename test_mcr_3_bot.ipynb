{
 "cells": [
  {
   "cell_type": "code",
   "execution_count": null,
   "id": "2e5e002c",
   "metadata": {
    "scrolled": true
   },
   "outputs": [
    {
     "name": "stderr",
     "output_type": "stream",
     "text": [
      "INFO:apscheduler.scheduler:Adding job tentatively -- it will be properly scheduled when the scheduler starts\n",
      "INFO:apscheduler.scheduler:Added job \"scheduled_task\" to job store \"default\"\n",
      "INFO:apscheduler.scheduler:Scheduler started\n",
      "INFO:aiogram.dispatcher:Start polling\n",
      "INFO:aiogram.dispatcher:Run polling for bot @Test_mcr_bot id=6569068360 - 'mcr news test'\n",
      "INFO:apscheduler.executors.default:Running job \"scheduled_task (trigger: interval[0:01:10], next run at: 2023-11-03 01:31:50 +07)\" (scheduled at 2023-11-03 01:30:40.703411+07:00)\n",
      "INFO:root:Successfully sent files to user_id: 964635576\n"
     ]
    },
    {
     "name": "stdout",
     "output_type": "stream",
     "text": [
      "<class 'str'>\n"
     ]
    },
    {
     "name": "stderr",
     "output_type": "stream",
     "text": [
      "INFO:root:Successfully sent files to user_id: 5685044175\n"
     ]
    },
    {
     "name": "stdout",
     "output_type": "stream",
     "text": [
      "<class 'str'>\n"
     ]
    },
    {
     "name": "stderr",
     "output_type": "stream",
     "text": [
      "INFO:apscheduler.executors.default:Job \"scheduled_task (trigger: interval[0:01:10], next run at: 2023-11-03 01:31:50 +07)\" executed successfully\n",
      "INFO:apscheduler.executors.default:Running job \"scheduled_task (trigger: interval[0:01:10], next run at: 2023-11-03 01:33:00 +07)\" (scheduled at 2023-11-03 01:31:50.703411+07:00)\n"
     ]
    },
    {
     "name": "stdout",
     "output_type": "stream",
     "text": [
      "<class 'str'>\n"
     ]
    },
    {
     "name": "stderr",
     "output_type": "stream",
     "text": [
      "INFO:root:File ./saved_files/Киму школа Ярцево.pdf sent to user_id: 964635576\n",
      "INFO:root:Successfully sent files to user_id: 964635576\n"
     ]
    },
    {
     "name": "stdout",
     "output_type": "stream",
     "text": [
      "<class 'str'>\n"
     ]
    },
    {
     "name": "stderr",
     "output_type": "stream",
     "text": [
      "INFO:root:File ./saved_files/Киму школа Ярцево.pdf sent to user_id: 5685044175\n",
      "INFO:root:Successfully sent files to user_id: 5685044175\n",
      "INFO:apscheduler.executors.default:Job \"scheduled_task (trigger: interval[0:01:10], next run at: 2023-11-03 01:33:00 +07)\" executed successfully\n",
      "INFO:apscheduler.executors.default:Running job \"scheduled_task (trigger: interval[0:01:10], next run at: 2023-11-03 01:34:10 +07)\" (scheduled at 2023-11-03 01:33:00.703411+07:00)\n",
      "INFO:root:Successfully sent files to user_id: 964635576\n"
     ]
    },
    {
     "name": "stdout",
     "output_type": "stream",
     "text": [
      "<class 'str'>\n",
      "<class 'str'>\n"
     ]
    },
    {
     "name": "stderr",
     "output_type": "stream",
     "text": [
      "INFO:root:File ./saved_files/Тестовый отчет 02.11.2023 11_45_48 (UTC+07_00).pdf sent to user_id: 5685044175\n",
      "INFO:root:Successfully sent files to user_id: 5685044175\n",
      "INFO:apscheduler.executors.default:Job \"scheduled_task (trigger: interval[0:01:10], next run at: 2023-11-03 01:34:10 +07)\" executed successfully\n",
      "INFO:apscheduler.executors.default:Running job \"scheduled_task (trigger: interval[0:01:10], next run at: 2023-11-03 01:35:20 +07)\" (scheduled at 2023-11-03 01:34:10.703411+07:00)\n"
     ]
    },
    {
     "name": "stdout",
     "output_type": "stream",
     "text": [
      "<class 'str'>\n"
     ]
    },
    {
     "name": "stderr",
     "output_type": "stream",
     "text": [
      "INFO:root:File ./saved_files/Тестовый отчет 02.11.2023 11_45_48 (UTC+07_00).pdf sent to user_id: 964635576\n",
      "INFO:root:Successfully sent files to user_id: 964635576\n",
      "INFO:root:Successfully sent files to user_id: 5685044175\n"
     ]
    },
    {
     "name": "stdout",
     "output_type": "stream",
     "text": [
      "<class 'str'>\n"
     ]
    },
    {
     "name": "stderr",
     "output_type": "stream",
     "text": [
      "INFO:apscheduler.executors.default:Job \"scheduled_task (trigger: interval[0:01:10], next run at: 2023-11-03 01:35:20 +07)\" executed successfully\n",
      "INFO:apscheduler.executors.default:Running job \"scheduled_task (trigger: interval[0:01:10], next run at: 2023-11-03 01:36:30 +07)\" (scheduled at 2023-11-03 01:35:20.703411+07:00)\n",
      "INFO:root:Successfully sent files to user_id: 964635576\n"
     ]
    },
    {
     "name": "stdout",
     "output_type": "stream",
     "text": [
      "<class 'str'>\n"
     ]
    },
    {
     "name": "stderr",
     "output_type": "stream",
     "text": [
      "INFO:root:Successfully sent files to user_id: 5685044175\n"
     ]
    },
    {
     "name": "stdout",
     "output_type": "stream",
     "text": [
      "<class 'str'>\n"
     ]
    },
    {
     "name": "stderr",
     "output_type": "stream",
     "text": [
      "INFO:apscheduler.executors.default:Job \"scheduled_task (trigger: interval[0:01:10], next run at: 2023-11-03 01:36:30 +07)\" executed successfully\n",
      "INFO:apscheduler.executors.default:Running job \"scheduled_task (trigger: interval[0:01:10], next run at: 2023-11-03 01:37:40 +07)\" (scheduled at 2023-11-03 01:36:30.703411+07:00)\n"
     ]
    },
    {
     "name": "stdout",
     "output_type": "stream",
     "text": [
      "<class 'str'>\n"
     ]
    },
    {
     "name": "stderr",
     "output_type": "stream",
     "text": [
      "INFO:root:File ./saved_files/image_2023-10-04_20-17-24.png sent to user_id: 964635576\n",
      "INFO:root:Successfully sent files to user_id: 964635576\n"
     ]
    },
    {
     "name": "stdout",
     "output_type": "stream",
     "text": [
      "<class 'str'>\n"
     ]
    },
    {
     "name": "stderr",
     "output_type": "stream",
     "text": [
      "INFO:root:File ./saved_files/image_2023-10-04_20-17-24.png sent to user_id: 5685044175\n",
      "INFO:root:Successfully sent files to user_id: 5685044175\n",
      "INFO:apscheduler.executors.default:Job \"scheduled_task (trigger: interval[0:01:10], next run at: 2023-11-03 01:37:40 +07)\" executed successfully\n"
     ]
    }
   ],
   "source": [
    "from aiogram.fsm.storage.memory import MemoryStorage\n",
    "import logging\n",
    "from aiogram import Bot\n",
    "from yandex_disk import fetch_and_save_files\n",
    "from bot import dp\n",
    "from scheduler import start_scheduler \n",
    "\n",
    "# Setting up logging\n",
    "logging.basicConfig(level=logging.INFO)\n",
    "\n",
    "# Defining the bot\n",
    "BOT_TOKEN = \"\"\n",
    "bot = Bot(token=BOT_TOKEN)\n",
    "\n",
    "# Creating instance of Router\n",
    "#router = Router()\n",
    "#dp = Dispatcher(storage=MemoryStorage())\n",
    "#dp.include_router(router)\n",
    "\n",
    "# Importing handlers from handlers.py\n",
    "from handlers import *\n",
    "\n",
    "async def main():\n",
    "    start_scheduler() \n",
    "    await bot.delete_webhook(drop_pending_updates=True)\n",
    "    await dp.start_polling(bot, allowed_updates=dp.resolve_used_update_types())\n",
    "\n",
    "await main()\n",
    "\n",
    "\n",
    "'''\n",
    "@router.message()\n",
    "async def start(message: types.Message):\n",
    "    await message.answer(\"Добро пожаловать! Вы можете подписаться на новости с помощью /subscribe\")\n",
    "    \n",
    "    # Извлечение и сохранение файлов из писем\n",
    "    files = fetch_and_save_files()\n",
    "    for file_path in files:\n",
    "        if file_path.endswith(('.png', '.jpg', '.jpeg')):\n",
    "            await message.answer_photo(photo=FSInputFile(file_path))\n",
    "        elif file_path.endswith('.pdf'):\n",
    "            temp_files = convert_pdf_to_images(file_path)\n",
    "            for temp_file in temp_files:\n",
    "                await message.answer_photo(photo=FSInputFile(path=temp_file, filename=\"image.png\"))\n",
    "        else:\n",
    "            with open(file_path, 'rb') as file:\n",
    "                await message.answer_document(document=InputFile(data=file.read(), filename=file_path.split('/')[-1]))\n",
    "\n",
    "'''                \n",
    "                \n",
    "                \n",
    "                \n",
    "\n",
    "\n",
    "\n"
   ]
  },
  {
   "cell_type": "code",
   "execution_count": null,
   "id": "449ec16c",
   "metadata": {},
   "outputs": [],
   "source": []
  },
  {
   "cell_type": "code",
   "execution_count": null,
   "id": "bc9284c7",
   "metadata": {},
   "outputs": [],
   "source": []
  },
  {
   "cell_type": "code",
   "execution_count": 2,
   "id": "72d93c03",
   "metadata": {
    "scrolled": true
   },
   "outputs": [
    {
     "name": "stdout",
     "output_type": "stream",
     "text": [
      "Subject: Поздравляем с регистрацией в Рамблер/почте!\n",
      "Subject: New Steam Account Email Verification\n",
      "Subject: Подтверждение аккаунта Steam\n",
      "Subject: Recent changes to your Steam account\n",
      "Subject: Изменение пароля в Rambler&Co\n",
      "Subject: Восстановление аккаунта Steam\n",
      "Subject: Восстановление аккаунта Steam\n",
      "Subject: Recent changes to your Steam account\n",
      "Subject: Account Registration Confirmation\n",
      "Subject: PlayStation Terms and Privacy Policy - Copy for your records\n",
      "Subject: вавава\n",
      "Saving image: mts_1.png\n"
     ]
    },
    {
     "data": {
      "text/plain": [
       "('BYE', [b'Logging out'])"
      ]
     },
     "execution_count": 2,
     "metadata": {},
     "output_type": "execute_result"
    }
   ],
   "source": [
    "import os\n",
    "import imaplib\n",
    "from email import message_from_bytes\n",
    "from email.header import decode_header\n",
    "\n",
    "SAVE_DIR = './saved_images'  # Директория для сохранения изображений\n",
    "\n",
    "if not os.path.exists(SAVE_DIR):\n",
    "    os.makedirs(SAVE_DIR)\n",
    "\n",
    "def save_image(part, filename):\n",
    "    with open(os.path.join(SAVE_DIR, filename), 'wb') as img_file:\n",
    "        img_file.write(part.get_payload(decode=True))\n",
    "\n",
    "# Подключение к IMAP серверу\n",
    "mail = imaplib.IMAP4_SSL('imap.rambler.ru')\n",
    "\n",
    "# Аутентификация\n",
    "mail.login('shawnrosales5v@rambler.ru', 'Av9505047@@')\n",
    "\n",
    "# Выбор почтового ящика\n",
    "mail.select('inbox')\n",
    "\n",
    "# Получение списка писем\n",
    "result, data = mail.search(None, 'ALL')\n",
    "for num in data[0].split():\n",
    "    result, email_data = mail.fetch(num, '(RFC822)')\n",
    "    raw_email = email_data[0][1]\n",
    "    \n",
    "    # Разбор письма\n",
    "    msg = message_from_bytes(raw_email)\n",
    "    subject = decode_header(msg[\"Subject\"])[0][0]\n",
    "    if isinstance(subject, bytes):\n",
    "        subject = subject.decode()\n",
    "    print(\"Subject:\", subject)\n",
    "    \n",
    "    # Если письмо состоит из нескольких частей\n",
    "    if msg.is_multipart():\n",
    "        for part in msg.walk():\n",
    "            content_type = part.get_content_type()\n",
    "            content_disposition = str(part.get(\"Content-Disposition\"))\n",
    "            \n",
    "            # Проверка на изображение\n",
    "            if \"image\" in content_type:\n",
    "                filename = part.get_filename()\n",
    "                if filename:\n",
    "                    print(f\"Saving image: {filename}\")\n",
    "                    save_image(part, filename)\n",
    "    else:\n",
    "        # Если письмо не состоит из нескольких частей\n",
    "        body = msg.get_payload(decode=True).decode()\n",
    "\n",
    "mail.logout()\n",
    "\n"
   ]
  },
  {
   "cell_type": "code",
   "execution_count": 1,
   "id": "bc338715",
   "metadata": {},
   "outputs": [],
   "source": [
    "import sqlite3\n",
    "from datetime import datetime\n",
    "import pytz\n",
    "\n",
    "DATABASE_NAME = \"my_bot_database.db\"\n",
    "\n",
    "def connect_to_db() -> sqlite3.Connection:\n",
    "    return sqlite3.connect(DATABASE_NAME)\n",
    "\n",
    "def get_current_krasnoyarsk_time():\n",
    "    krasnoyarsk_timezone = pytz.timezone('Asia/Krasnoyarsk')\n",
    "    return datetime.now(krasnoyarsk_timezone).strftime('%Y-%m-%d %H:%M:%S')\n",
    "\n",
    "def create_tables():\n",
    "    conn = connect_to_db()\n",
    "    cursor = conn.cursor()\n",
    "\n",
    "    # Создание таблицы subscribers\n",
    "    cursor.execute('''\n",
    "    CREATE TABLE IF NOT EXISTS subscribers (\n",
    "        user_id INTEGER PRIMARY KEY,\n",
    "        first_name TEXT,\n",
    "        last_name TEXT,\n",
    "        username TEXT,\n",
    "        date_of_sub TEXT\n",
    "    )\n",
    "    ''')\n",
    "\n",
    "    # Создание таблицы messages\n",
    "    cursor.execute('''\n",
    "    CREATE TABLE IF NOT EXISTS messages (\n",
    "        message_id TEXT,\n",
    "        date_of_sending TEXT,\n",
    "        \n",
    "        user_id INTEGER,\n",
    "        delivered BOOLEAN DEFAULT 1,\n",
    "        PRIMARY KEY (message_id, user_id)\n",
    "    )\n",
    "    ''')\n",
    "\n",
    "    conn.commit()\n",
    "    conn.close()\n",
    "\n",
    "def check_subscriber_exists(user_id: int) -> bool:\n",
    "    conn = connect_to_db()\n",
    "    cursor = conn.cursor()\n",
    "    cursor.execute(\"SELECT * FROM subscribers WHERE user_id = ?\", (user_id,))\n",
    "    data = cursor.fetchone()\n",
    "    conn.close()\n",
    "    return bool(data)\n",
    "\n",
    "def get_all_subscriber_ids():\n",
    "    conn = connect_to_db()\n",
    "    cursor = conn.cursor()\n",
    "    cursor.execute(\"SELECT user_id FROM subscribers\")\n",
    "    rows = cursor.fetchall()\n",
    "    conn.close()\n",
    "    \n",
    "    # Извлечение user_id из каждой строки и преобразование в список\n",
    "    subscriber_ids = [row[0] for row in rows]\n",
    "    \n",
    "    return subscriber_ids\n",
    "\n",
    "\n",
    "    \n",
    "def add_subscriber(user_id: int, first_name: str, last_name: str):\n",
    "    if check_subscriber_exists(user_id):\n",
    "        return\n",
    "\n",
    "    conn = connect_to_db()\n",
    "    cursor = conn.cursor()\n",
    "    cursor.execute(\"INSERT INTO subscribers (user_id, first_name, last_name, date_of_sub) VALUES (?, ?, ?, ?)\", (user_id, first_name, last_name, get_current_krasnoyarsk_time()))\n",
    "    conn.commit()\n",
    "    conn.close()\n",
    "\n",
    "def remove_subscriber(user_id: int):\n",
    "    conn = connect_to_db()\n",
    "    cursor = conn.cursor()\n",
    "    cursor.execute(\"DELETE FROM subscribers WHERE user_id=?\", (user_id,))\n",
    "    conn.commit()\n",
    "    conn.close()\n",
    "\n",
    "    \n",
    "def add_message(user_id: int, delivered: bool):\n",
    "    conn = connect_to_db()\n",
    "    cursor = conn.cursor()\n",
    "    cursor.execute(\"INSERT INTO messages (date_of_sending, user_id, delivered) VALUES (?, ?, ?)\", (get_current_krasnoyarsk_time(), user_id, delivered))\n",
    "    conn.commit()\n",
    "    conn.close()\n",
    "\n",
    "if __name__ == \"__main__\":\n",
    "    create_tables()\n"
   ]
  },
  {
   "cell_type": "code",
   "execution_count": null,
   "id": "047eea58",
   "metadata": {},
   "outputs": [],
   "source": []
  }
 ],
 "metadata": {
  "kernelspec": {
   "display_name": "Python 3 (ipykernel)",
   "language": "python",
   "name": "python3"
  },
  "language_info": {
   "codemirror_mode": {
    "name": "ipython",
    "version": 3
   },
   "file_extension": ".py",
   "mimetype": "text/x-python",
   "name": "python",
   "nbconvert_exporter": "python",
   "pygments_lexer": "ipython3",
   "version": "3.11.4"
  }
 },
 "nbformat": 4,
 "nbformat_minor": 5
}
